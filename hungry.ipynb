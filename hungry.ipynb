{
 "cells": [
  {
   "cell_type": "code",
   "execution_count": null,
   "id": "98cc90b4",
   "metadata": {},
   "outputs": [],
   "source": [
    "print('I am hungry')"
   ]
  },
  {
   "cell_type": "code",
   "execution_count": null,
   "id": "6724e1d1",
   "metadata": {},
   "outputs": [],
   "source": [
    "hungry=input('are you hungry?')\n",
    "if hungry=='Yes'\n",
    "    print('eat samosa')\n",
    "else:\n",
    "    print('do your homework')\n",
    "    \n"
   ]
  },
  {
   "cell_type": "code",
   "execution_count": null,
   "id": "757b21d1",
   "metadata": {},
   "outputs": [],
   "source": []
  }
 ],
 "metadata": {
  "kernelspec": {
   "display_name": "Python 3 (ipykernel)",
   "language": "python",
   "name": "python3"
  },
  "language_info": {
   "codemirror_mode": {
    "name": "ipython",
    "version": 3
   },
   "file_extension": ".py",
   "mimetype": "text/x-python",
   "name": "python",
   "nbconvert_exporter": "python",
   "pygments_lexer": "ipython3",
   "version": "3.9.7"
  }
 },
 "nbformat": 4,
 "nbformat_minor": 5
}
